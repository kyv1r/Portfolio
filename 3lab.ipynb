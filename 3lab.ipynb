{
  "cells": [
    {
      "cell_type": "markdown",
      "metadata": {
        "id": "view-in-github",
        "colab_type": "text"
      },
      "source": [
        "<a href=\"https://colab.research.google.com/github/kyv1r/Portfolio/blob/main/3lab.ipynb\" target=\"_parent\"><img src=\"https://colab.research.google.com/assets/colab-badge.svg\" alt=\"Open In Colab\"/></a>"
      ]
    },
    {
      "cell_type": "code",
      "source": [
        "import numpy as np\n",
        "import pandas as pd\n",
        "import statsmodels.api as sm"
      ],
      "metadata": {
        "id": "EkITlKlOz45E"
      },
      "execution_count": 17,
      "outputs": []
    },
    {
      "cell_type": "code",
      "source": [
        "data = pd.read_excel('/content/book2.xlsx')"
      ],
      "metadata": {
        "id": "Fh89Racdz5jH"
      },
      "execution_count": 18,
      "outputs": []
    },
    {
      "cell_type": "code",
      "source": [
        "# Зависимая переменная (цена квартиры)\n",
        "y = data['y']\n",
        "\n",
        "# Независимые переменные (факторы)\n",
        "X = data[['x1', 'x2', 'x3', 'x4', 'x5', 'x6', 'x7', 'x8']]"
      ],
      "metadata": {
        "id": "lYkz7QvKz92i"
      },
      "execution_count": 19,
      "outputs": []
    },
    {
      "cell_type": "code",
      "source": [
        "X = sm.add_constant(X)"
      ],
      "metadata": {
        "id": "QmUTtyIs0Ft0"
      },
      "execution_count": 20,
      "outputs": []
    },
    {
      "cell_type": "code",
      "source": [
        "model = sm.OLS(y, X).fit()"
      ],
      "metadata": {
        "id": "0mbeywvq0aF3"
      },
      "execution_count": 21,
      "outputs": []
    },
    {
      "cell_type": "markdown",
      "source": [
        "# **1 задание**"
      ],
      "metadata": {
        "id": "sfKprryBOEAg"
      }
    },
    {
      "cell_type": "code",
      "source": [
        "print(model.summary())"
      ],
      "metadata": {
        "id": "RBmYXjl_0dFc",
        "outputId": "4eefd130-7c69-4e93-b445-81a01d3ac133",
        "colab": {
          "base_uri": "https://localhost:8080/"
        }
      },
      "execution_count": 22,
      "outputs": [
        {
          "output_type": "stream",
          "name": "stdout",
          "text": [
            "                            OLS Regression Results                            \n",
            "==============================================================================\n",
            "Dep. Variable:                      y   R-squared:                       0.957\n",
            "Model:                            OLS   Adj. R-squared:                  0.943\n",
            "Method:                 Least Squares   F-statistic:                     67.01\n",
            "Date:                Tue, 07 Nov 2023   Prob (F-statistic):           1.54e-14\n",
            "Time:                        08:06:47   Log-Likelihood:                -78.745\n",
            "No. Observations:                  33   AIC:                             175.5\n",
            "Df Residuals:                      24   BIC:                             189.0\n",
            "Df Model:                           8                                         \n",
            "Covariance Type:            nonrobust                                         \n",
            "==============================================================================\n",
            "                 coef    std err          t      P>|t|      [0.025      0.975]\n",
            "------------------------------------------------------------------------------\n",
            "const         -2.7448      2.844     -0.965      0.344      -8.615       3.125\n",
            "x1            -3.3912      1.866     -1.817      0.082      -7.242       0.460\n",
            "x2             0.6313      0.949      0.665      0.512      -1.328       2.591\n",
            "x3             0.3030      0.173      1.756      0.092      -0.053       0.659\n",
            "x4             0.5130      0.228      2.248      0.034       0.042       0.984\n",
            "x5             0.0751      0.335      0.224      0.824      -0.616       0.766\n",
            "x6             3.6419      1.556      2.340      0.028       0.430       6.854\n",
            "x7             2.1767      1.706      1.276      0.214      -1.343       5.697\n",
            "x8            -0.1042      0.134     -0.776      0.446      -0.382       0.173\n",
            "==============================================================================\n",
            "Omnibus:                        2.180   Durbin-Watson:                   0.627\n",
            "Prob(Omnibus):                  0.336   Jarque-Bera (JB):                1.218\n",
            "Skew:                           0.053   Prob(JB):                        0.544\n",
            "Kurtosis:                       2.065   Cond. No.                         485.\n",
            "==============================================================================\n",
            "\n",
            "Notes:\n",
            "[1] Standard Errors assume that the covariance matrix of the errors is correctly specified.\n"
          ]
        }
      ]
    },
    {
      "cell_type": "markdown",
      "source": [
        "y = -2.7448 - 3.3912x1 + 0.6313x2 + 0.3030x3 +0.5130x4 + 0.0751x5 + 3.6419x6 + 2.1767x7 − 0.1042x8 - линейное уравнение\n",
        "\n",
        "Значимость уравнения:\n",
        "\n",
        "R-squared (R^2) - 0.957: Это коэффициент детерминации, который показывает, насколько хорошо модель объясняет вариацию в зависимой переменной. Значение близкое к 1 (в данном случае 0.957) говорит о хорошей объяснительной способности модели.\n",
        "\n",
        "Значимость параметров (коэффициентов):\n",
        "\n",
        "Для каждого параметра в уравнении представлены значения \"t\" и P-value (P>|t|). P-value показывает статистическую значимость параметра. Обычно, если P-value < 0.05, то параметр считается статистически значимым.\n",
        "\n",
        "Коэффициент свободного члена (const) имеет P-value равный 0.344, что больше 0.05. Это означает, что коэффициент свободного члена не является статистически значимым.\n",
        "Другие параметры имеют разные P-values. Например, x4 и x6 имеют P-values меньше 0.05, что говорит о их статистической значимости. Остальные параметры, такие как x1, x2, x3, x5, x7 и x8, имеют P-values больше 0.05, что говорит о их незначимости."
      ],
      "metadata": {
        "id": "QpKvNPxZ1FL5"
      }
    },
    {
      "cell_type": "markdown",
      "source": [
        "# **2 задание**"
      ],
      "metadata": {
        "id": "JQf6ddBVOpaV"
      }
    },
    {
      "cell_type": "code",
      "source": [
        "data.corr()"
      ],
      "metadata": {
        "id": "X5clal481sKy",
        "outputId": "3ca0fd8c-3887-4f12-fb09-bdf9bb874c8f",
        "colab": {
          "base_uri": "https://localhost:8080/",
          "height": 363
        }
      },
      "execution_count": 30,
      "outputs": [
        {
          "output_type": "execute_result",
          "data": {
            "text/plain": [
              "          № p/p        x1        x2        x3        x4        x5        x6  \\\n",
              "№ p/p  1.000000 -0.027882  0.167899 -0.157765 -0.166729 -0.185877 -0.671713   \n",
              "x1    -0.027882  1.000000  0.311701  0.883832  0.919579  0.243394  0.008753   \n",
              "x2     0.167899  0.311701  1.000000  0.152511  0.196537 -0.103331 -0.524447   \n",
              "x3    -0.157765  0.883832  0.152511  1.000000  0.966009  0.534948  0.160451   \n",
              "x4    -0.166729  0.919579  0.196537  0.966009  1.000000  0.350529  0.160541   \n",
              "x5    -0.185877  0.243394 -0.103331  0.534948  0.350529  1.000000  0.158641   \n",
              "x6    -0.671713  0.008753 -0.524447  0.160451  0.160541  0.158641  1.000000   \n",
              "x7     0.150890  0.190723  0.165518  0.178333  0.143746 -0.009686 -0.278639   \n",
              "x8    -0.125274  0.133101  0.051131  0.387596  0.317865  0.454562  0.234823   \n",
              "y     -0.359664  0.832716  0.103704  0.961220  0.953906  0.466511  0.272779   \n",
              "\n",
              "             x7        x8         y  \n",
              "№ p/p  0.150890 -0.125274 -0.359664  \n",
              "x1     0.190723  0.133101  0.832716  \n",
              "x2     0.165518  0.051131  0.103704  \n",
              "x3     0.178333  0.387596  0.961220  \n",
              "x4     0.143746  0.317865  0.953906  \n",
              "x5    -0.009686  0.454562  0.466511  \n",
              "x6    -0.278639  0.234823  0.272779  \n",
              "x7     1.000000 -0.090587  0.174816  \n",
              "x8    -0.090587  1.000000  0.369351  \n",
              "y      0.174816  0.369351  1.000000  "
            ],
            "text/html": [
              "\n",
              "  <div id=\"df-657e8525-f75e-47b8-b1c8-2dc4f34780e9\" class=\"colab-df-container\">\n",
              "    <div>\n",
              "<style scoped>\n",
              "    .dataframe tbody tr th:only-of-type {\n",
              "        vertical-align: middle;\n",
              "    }\n",
              "\n",
              "    .dataframe tbody tr th {\n",
              "        vertical-align: top;\n",
              "    }\n",
              "\n",
              "    .dataframe thead th {\n",
              "        text-align: right;\n",
              "    }\n",
              "</style>\n",
              "<table border=\"1\" class=\"dataframe\">\n",
              "  <thead>\n",
              "    <tr style=\"text-align: right;\">\n",
              "      <th></th>\n",
              "      <th>№ p/p</th>\n",
              "      <th>x1</th>\n",
              "      <th>x2</th>\n",
              "      <th>x3</th>\n",
              "      <th>x4</th>\n",
              "      <th>x5</th>\n",
              "      <th>x6</th>\n",
              "      <th>x7</th>\n",
              "      <th>x8</th>\n",
              "      <th>y</th>\n",
              "    </tr>\n",
              "  </thead>\n",
              "  <tbody>\n",
              "    <tr>\n",
              "      <th>№ p/p</th>\n",
              "      <td>1.000000</td>\n",
              "      <td>-0.027882</td>\n",
              "      <td>0.167899</td>\n",
              "      <td>-0.157765</td>\n",
              "      <td>-0.166729</td>\n",
              "      <td>-0.185877</td>\n",
              "      <td>-0.671713</td>\n",
              "      <td>0.150890</td>\n",
              "      <td>-0.125274</td>\n",
              "      <td>-0.359664</td>\n",
              "    </tr>\n",
              "    <tr>\n",
              "      <th>x1</th>\n",
              "      <td>-0.027882</td>\n",
              "      <td>1.000000</td>\n",
              "      <td>0.311701</td>\n",
              "      <td>0.883832</td>\n",
              "      <td>0.919579</td>\n",
              "      <td>0.243394</td>\n",
              "      <td>0.008753</td>\n",
              "      <td>0.190723</td>\n",
              "      <td>0.133101</td>\n",
              "      <td>0.832716</td>\n",
              "    </tr>\n",
              "    <tr>\n",
              "      <th>x2</th>\n",
              "      <td>0.167899</td>\n",
              "      <td>0.311701</td>\n",
              "      <td>1.000000</td>\n",
              "      <td>0.152511</td>\n",
              "      <td>0.196537</td>\n",
              "      <td>-0.103331</td>\n",
              "      <td>-0.524447</td>\n",
              "      <td>0.165518</td>\n",
              "      <td>0.051131</td>\n",
              "      <td>0.103704</td>\n",
              "    </tr>\n",
              "    <tr>\n",
              "      <th>x3</th>\n",
              "      <td>-0.157765</td>\n",
              "      <td>0.883832</td>\n",
              "      <td>0.152511</td>\n",
              "      <td>1.000000</td>\n",
              "      <td>0.966009</td>\n",
              "      <td>0.534948</td>\n",
              "      <td>0.160451</td>\n",
              "      <td>0.178333</td>\n",
              "      <td>0.387596</td>\n",
              "      <td>0.961220</td>\n",
              "    </tr>\n",
              "    <tr>\n",
              "      <th>x4</th>\n",
              "      <td>-0.166729</td>\n",
              "      <td>0.919579</td>\n",
              "      <td>0.196537</td>\n",
              "      <td>0.966009</td>\n",
              "      <td>1.000000</td>\n",
              "      <td>0.350529</td>\n",
              "      <td>0.160541</td>\n",
              "      <td>0.143746</td>\n",
              "      <td>0.317865</td>\n",
              "      <td>0.953906</td>\n",
              "    </tr>\n",
              "    <tr>\n",
              "      <th>x5</th>\n",
              "      <td>-0.185877</td>\n",
              "      <td>0.243394</td>\n",
              "      <td>-0.103331</td>\n",
              "      <td>0.534948</td>\n",
              "      <td>0.350529</td>\n",
              "      <td>1.000000</td>\n",
              "      <td>0.158641</td>\n",
              "      <td>-0.009686</td>\n",
              "      <td>0.454562</td>\n",
              "      <td>0.466511</td>\n",
              "    </tr>\n",
              "    <tr>\n",
              "      <th>x6</th>\n",
              "      <td>-0.671713</td>\n",
              "      <td>0.008753</td>\n",
              "      <td>-0.524447</td>\n",
              "      <td>0.160451</td>\n",
              "      <td>0.160541</td>\n",
              "      <td>0.158641</td>\n",
              "      <td>1.000000</td>\n",
              "      <td>-0.278639</td>\n",
              "      <td>0.234823</td>\n",
              "      <td>0.272779</td>\n",
              "    </tr>\n",
              "    <tr>\n",
              "      <th>x7</th>\n",
              "      <td>0.150890</td>\n",
              "      <td>0.190723</td>\n",
              "      <td>0.165518</td>\n",
              "      <td>0.178333</td>\n",
              "      <td>0.143746</td>\n",
              "      <td>-0.009686</td>\n",
              "      <td>-0.278639</td>\n",
              "      <td>1.000000</td>\n",
              "      <td>-0.090587</td>\n",
              "      <td>0.174816</td>\n",
              "    </tr>\n",
              "    <tr>\n",
              "      <th>x8</th>\n",
              "      <td>-0.125274</td>\n",
              "      <td>0.133101</td>\n",
              "      <td>0.051131</td>\n",
              "      <td>0.387596</td>\n",
              "      <td>0.317865</td>\n",
              "      <td>0.454562</td>\n",
              "      <td>0.234823</td>\n",
              "      <td>-0.090587</td>\n",
              "      <td>1.000000</td>\n",
              "      <td>0.369351</td>\n",
              "    </tr>\n",
              "    <tr>\n",
              "      <th>y</th>\n",
              "      <td>-0.359664</td>\n",
              "      <td>0.832716</td>\n",
              "      <td>0.103704</td>\n",
              "      <td>0.961220</td>\n",
              "      <td>0.953906</td>\n",
              "      <td>0.466511</td>\n",
              "      <td>0.272779</td>\n",
              "      <td>0.174816</td>\n",
              "      <td>0.369351</td>\n",
              "      <td>1.000000</td>\n",
              "    </tr>\n",
              "  </tbody>\n",
              "</table>\n",
              "</div>\n",
              "    <div class=\"colab-df-buttons\">\n",
              "\n",
              "  <div class=\"colab-df-container\">\n",
              "    <button class=\"colab-df-convert\" onclick=\"convertToInteractive('df-657e8525-f75e-47b8-b1c8-2dc4f34780e9')\"\n",
              "            title=\"Convert this dataframe to an interactive table.\"\n",
              "            style=\"display:none;\">\n",
              "\n",
              "  <svg xmlns=\"http://www.w3.org/2000/svg\" height=\"24px\" viewBox=\"0 -960 960 960\">\n",
              "    <path d=\"M120-120v-720h720v720H120Zm60-500h600v-160H180v160Zm220 220h160v-160H400v160Zm0 220h160v-160H400v160ZM180-400h160v-160H180v160Zm440 0h160v-160H620v160ZM180-180h160v-160H180v160Zm440 0h160v-160H620v160Z\"/>\n",
              "  </svg>\n",
              "    </button>\n",
              "\n",
              "  <style>\n",
              "    .colab-df-container {\n",
              "      display:flex;\n",
              "      gap: 12px;\n",
              "    }\n",
              "\n",
              "    .colab-df-convert {\n",
              "      background-color: #E8F0FE;\n",
              "      border: none;\n",
              "      border-radius: 50%;\n",
              "      cursor: pointer;\n",
              "      display: none;\n",
              "      fill: #1967D2;\n",
              "      height: 32px;\n",
              "      padding: 0 0 0 0;\n",
              "      width: 32px;\n",
              "    }\n",
              "\n",
              "    .colab-df-convert:hover {\n",
              "      background-color: #E2EBFA;\n",
              "      box-shadow: 0px 1px 2px rgba(60, 64, 67, 0.3), 0px 1px 3px 1px rgba(60, 64, 67, 0.15);\n",
              "      fill: #174EA6;\n",
              "    }\n",
              "\n",
              "    .colab-df-buttons div {\n",
              "      margin-bottom: 4px;\n",
              "    }\n",
              "\n",
              "    [theme=dark] .colab-df-convert {\n",
              "      background-color: #3B4455;\n",
              "      fill: #D2E3FC;\n",
              "    }\n",
              "\n",
              "    [theme=dark] .colab-df-convert:hover {\n",
              "      background-color: #434B5C;\n",
              "      box-shadow: 0px 1px 3px 1px rgba(0, 0, 0, 0.15);\n",
              "      filter: drop-shadow(0px 1px 2px rgba(0, 0, 0, 0.3));\n",
              "      fill: #FFFFFF;\n",
              "    }\n",
              "  </style>\n",
              "\n",
              "    <script>\n",
              "      const buttonEl =\n",
              "        document.querySelector('#df-657e8525-f75e-47b8-b1c8-2dc4f34780e9 button.colab-df-convert');\n",
              "      buttonEl.style.display =\n",
              "        google.colab.kernel.accessAllowed ? 'block' : 'none';\n",
              "\n",
              "      async function convertToInteractive(key) {\n",
              "        const element = document.querySelector('#df-657e8525-f75e-47b8-b1c8-2dc4f34780e9');\n",
              "        const dataTable =\n",
              "          await google.colab.kernel.invokeFunction('convertToInteractive',\n",
              "                                                    [key], {});\n",
              "        if (!dataTable) return;\n",
              "\n",
              "        const docLinkHtml = 'Like what you see? Visit the ' +\n",
              "          '<a target=\"_blank\" href=https://colab.research.google.com/notebooks/data_table.ipynb>data table notebook</a>'\n",
              "          + ' to learn more about interactive tables.';\n",
              "        element.innerHTML = '';\n",
              "        dataTable['output_type'] = 'display_data';\n",
              "        await google.colab.output.renderOutput(dataTable, element);\n",
              "        const docLink = document.createElement('div');\n",
              "        docLink.innerHTML = docLinkHtml;\n",
              "        element.appendChild(docLink);\n",
              "      }\n",
              "    </script>\n",
              "  </div>\n",
              "\n",
              "\n",
              "<div id=\"df-3f9241e6-54e7-42bf-8069-36ca1a21523c\">\n",
              "  <button class=\"colab-df-quickchart\" onclick=\"quickchart('df-3f9241e6-54e7-42bf-8069-36ca1a21523c')\"\n",
              "            title=\"Suggest charts.\"\n",
              "            style=\"display:none;\">\n",
              "\n",
              "<svg xmlns=\"http://www.w3.org/2000/svg\" height=\"24px\"viewBox=\"0 0 24 24\"\n",
              "     width=\"24px\">\n",
              "    <g>\n",
              "        <path d=\"M19 3H5c-1.1 0-2 .9-2 2v14c0 1.1.9 2 2 2h14c1.1 0 2-.9 2-2V5c0-1.1-.9-2-2-2zM9 17H7v-7h2v7zm4 0h-2V7h2v10zm4 0h-2v-4h2v4z\"/>\n",
              "    </g>\n",
              "</svg>\n",
              "  </button>\n",
              "\n",
              "<style>\n",
              "  .colab-df-quickchart {\n",
              "      --bg-color: #E8F0FE;\n",
              "      --fill-color: #1967D2;\n",
              "      --hover-bg-color: #E2EBFA;\n",
              "      --hover-fill-color: #174EA6;\n",
              "      --disabled-fill-color: #AAA;\n",
              "      --disabled-bg-color: #DDD;\n",
              "  }\n",
              "\n",
              "  [theme=dark] .colab-df-quickchart {\n",
              "      --bg-color: #3B4455;\n",
              "      --fill-color: #D2E3FC;\n",
              "      --hover-bg-color: #434B5C;\n",
              "      --hover-fill-color: #FFFFFF;\n",
              "      --disabled-bg-color: #3B4455;\n",
              "      --disabled-fill-color: #666;\n",
              "  }\n",
              "\n",
              "  .colab-df-quickchart {\n",
              "    background-color: var(--bg-color);\n",
              "    border: none;\n",
              "    border-radius: 50%;\n",
              "    cursor: pointer;\n",
              "    display: none;\n",
              "    fill: var(--fill-color);\n",
              "    height: 32px;\n",
              "    padding: 0;\n",
              "    width: 32px;\n",
              "  }\n",
              "\n",
              "  .colab-df-quickchart:hover {\n",
              "    background-color: var(--hover-bg-color);\n",
              "    box-shadow: 0 1px 2px rgba(60, 64, 67, 0.3), 0 1px 3px 1px rgba(60, 64, 67, 0.15);\n",
              "    fill: var(--button-hover-fill-color);\n",
              "  }\n",
              "\n",
              "  .colab-df-quickchart-complete:disabled,\n",
              "  .colab-df-quickchart-complete:disabled:hover {\n",
              "    background-color: var(--disabled-bg-color);\n",
              "    fill: var(--disabled-fill-color);\n",
              "    box-shadow: none;\n",
              "  }\n",
              "\n",
              "  .colab-df-spinner {\n",
              "    border: 2px solid var(--fill-color);\n",
              "    border-color: transparent;\n",
              "    border-bottom-color: var(--fill-color);\n",
              "    animation:\n",
              "      spin 1s steps(1) infinite;\n",
              "  }\n",
              "\n",
              "  @keyframes spin {\n",
              "    0% {\n",
              "      border-color: transparent;\n",
              "      border-bottom-color: var(--fill-color);\n",
              "      border-left-color: var(--fill-color);\n",
              "    }\n",
              "    20% {\n",
              "      border-color: transparent;\n",
              "      border-left-color: var(--fill-color);\n",
              "      border-top-color: var(--fill-color);\n",
              "    }\n",
              "    30% {\n",
              "      border-color: transparent;\n",
              "      border-left-color: var(--fill-color);\n",
              "      border-top-color: var(--fill-color);\n",
              "      border-right-color: var(--fill-color);\n",
              "    }\n",
              "    40% {\n",
              "      border-color: transparent;\n",
              "      border-right-color: var(--fill-color);\n",
              "      border-top-color: var(--fill-color);\n",
              "    }\n",
              "    60% {\n",
              "      border-color: transparent;\n",
              "      border-right-color: var(--fill-color);\n",
              "    }\n",
              "    80% {\n",
              "      border-color: transparent;\n",
              "      border-right-color: var(--fill-color);\n",
              "      border-bottom-color: var(--fill-color);\n",
              "    }\n",
              "    90% {\n",
              "      border-color: transparent;\n",
              "      border-bottom-color: var(--fill-color);\n",
              "    }\n",
              "  }\n",
              "</style>\n",
              "\n",
              "  <script>\n",
              "    async function quickchart(key) {\n",
              "      const quickchartButtonEl =\n",
              "        document.querySelector('#' + key + ' button');\n",
              "      quickchartButtonEl.disabled = true;  // To prevent multiple clicks.\n",
              "      quickchartButtonEl.classList.add('colab-df-spinner');\n",
              "      try {\n",
              "        const charts = await google.colab.kernel.invokeFunction(\n",
              "            'suggestCharts', [key], {});\n",
              "      } catch (error) {\n",
              "        console.error('Error during call to suggestCharts:', error);\n",
              "      }\n",
              "      quickchartButtonEl.classList.remove('colab-df-spinner');\n",
              "      quickchartButtonEl.classList.add('colab-df-quickchart-complete');\n",
              "    }\n",
              "    (() => {\n",
              "      let quickchartButtonEl =\n",
              "        document.querySelector('#df-3f9241e6-54e7-42bf-8069-36ca1a21523c button');\n",
              "      quickchartButtonEl.style.display =\n",
              "        google.colab.kernel.accessAllowed ? 'block' : 'none';\n",
              "    })();\n",
              "  </script>\n",
              "</div>\n",
              "    </div>\n",
              "  </div>\n"
            ]
          },
          "metadata": {},
          "execution_count": 30
        }
      ]
    },
    {
      "cell_type": "markdown",
      "source": [
        "x3 (общая площадь квартиры) и x4 (жилая площадь квартиры) - коэффициент корреляции 0.966009.\n",
        "\n",
        "x3 (общая площадь квартиры) и y (цена квартиры) - коэффициент корреляции 0.961220.\n",
        "\n",
        "x4 (жилая площадь квартиры) и y (цена квартиры) - коэффициент корреляции 0.953906.\n"
      ],
      "metadata": {
        "id": "BMeIVV5P3uUF"
      }
    },
    {
      "cell_type": "code",
      "source": [
        "data = data.drop(['x4'], axis=1) # исключили переменную x4 (жилая площадь квартиры), так как она коррелирует с другими переменными и может быть менее информативной.\n",
        "data.head()"
      ],
      "metadata": {
        "id": "7Zy-8o4R3wLR",
        "outputId": "90b97ff5-1baf-4c9a-ad38-7cc1ec609cab",
        "colab": {
          "base_uri": "https://localhost:8080/",
          "height": 206
        }
      },
      "execution_count": 32,
      "outputs": [
        {
          "output_type": "execute_result",
          "data": {
            "text/plain": [
              "   № p/p  x1  x2     x3    x5  x6  x7  x8     y\n",
              "0      1   3   0  117.0  25.0   1   1  12  58.5\n",
              "1      2   1   1   42.0  10.2   1   0  12  24.2\n",
              "2      3   2   1   62.0  11.0   1   0  12  35.7\n",
              "3      4   3   1   89.0  11.5   1   1  12  51.2\n",
              "4      5   4   1  132.0  11.0   1   1  12  75.9"
            ],
            "text/html": [
              "\n",
              "  <div id=\"df-cba2fb13-9145-464c-8d40-aa5db0bf3c5c\" class=\"colab-df-container\">\n",
              "    <div>\n",
              "<style scoped>\n",
              "    .dataframe tbody tr th:only-of-type {\n",
              "        vertical-align: middle;\n",
              "    }\n",
              "\n",
              "    .dataframe tbody tr th {\n",
              "        vertical-align: top;\n",
              "    }\n",
              "\n",
              "    .dataframe thead th {\n",
              "        text-align: right;\n",
              "    }\n",
              "</style>\n",
              "<table border=\"1\" class=\"dataframe\">\n",
              "  <thead>\n",
              "    <tr style=\"text-align: right;\">\n",
              "      <th></th>\n",
              "      <th>№ p/p</th>\n",
              "      <th>x1</th>\n",
              "      <th>x2</th>\n",
              "      <th>x3</th>\n",
              "      <th>x5</th>\n",
              "      <th>x6</th>\n",
              "      <th>x7</th>\n",
              "      <th>x8</th>\n",
              "      <th>y</th>\n",
              "    </tr>\n",
              "  </thead>\n",
              "  <tbody>\n",
              "    <tr>\n",
              "      <th>0</th>\n",
              "      <td>1</td>\n",
              "      <td>3</td>\n",
              "      <td>0</td>\n",
              "      <td>117.0</td>\n",
              "      <td>25.0</td>\n",
              "      <td>1</td>\n",
              "      <td>1</td>\n",
              "      <td>12</td>\n",
              "      <td>58.5</td>\n",
              "    </tr>\n",
              "    <tr>\n",
              "      <th>1</th>\n",
              "      <td>2</td>\n",
              "      <td>1</td>\n",
              "      <td>1</td>\n",
              "      <td>42.0</td>\n",
              "      <td>10.2</td>\n",
              "      <td>1</td>\n",
              "      <td>0</td>\n",
              "      <td>12</td>\n",
              "      <td>24.2</td>\n",
              "    </tr>\n",
              "    <tr>\n",
              "      <th>2</th>\n",
              "      <td>3</td>\n",
              "      <td>2</td>\n",
              "      <td>1</td>\n",
              "      <td>62.0</td>\n",
              "      <td>11.0</td>\n",
              "      <td>1</td>\n",
              "      <td>0</td>\n",
              "      <td>12</td>\n",
              "      <td>35.7</td>\n",
              "    </tr>\n",
              "    <tr>\n",
              "      <th>3</th>\n",
              "      <td>4</td>\n",
              "      <td>3</td>\n",
              "      <td>1</td>\n",
              "      <td>89.0</td>\n",
              "      <td>11.5</td>\n",
              "      <td>1</td>\n",
              "      <td>1</td>\n",
              "      <td>12</td>\n",
              "      <td>51.2</td>\n",
              "    </tr>\n",
              "    <tr>\n",
              "      <th>4</th>\n",
              "      <td>5</td>\n",
              "      <td>4</td>\n",
              "      <td>1</td>\n",
              "      <td>132.0</td>\n",
              "      <td>11.0</td>\n",
              "      <td>1</td>\n",
              "      <td>1</td>\n",
              "      <td>12</td>\n",
              "      <td>75.9</td>\n",
              "    </tr>\n",
              "  </tbody>\n",
              "</table>\n",
              "</div>\n",
              "    <div class=\"colab-df-buttons\">\n",
              "\n",
              "  <div class=\"colab-df-container\">\n",
              "    <button class=\"colab-df-convert\" onclick=\"convertToInteractive('df-cba2fb13-9145-464c-8d40-aa5db0bf3c5c')\"\n",
              "            title=\"Convert this dataframe to an interactive table.\"\n",
              "            style=\"display:none;\">\n",
              "\n",
              "  <svg xmlns=\"http://www.w3.org/2000/svg\" height=\"24px\" viewBox=\"0 -960 960 960\">\n",
              "    <path d=\"M120-120v-720h720v720H120Zm60-500h600v-160H180v160Zm220 220h160v-160H400v160Zm0 220h160v-160H400v160ZM180-400h160v-160H180v160Zm440 0h160v-160H620v160ZM180-180h160v-160H180v160Zm440 0h160v-160H620v160Z\"/>\n",
              "  </svg>\n",
              "    </button>\n",
              "\n",
              "  <style>\n",
              "    .colab-df-container {\n",
              "      display:flex;\n",
              "      gap: 12px;\n",
              "    }\n",
              "\n",
              "    .colab-df-convert {\n",
              "      background-color: #E8F0FE;\n",
              "      border: none;\n",
              "      border-radius: 50%;\n",
              "      cursor: pointer;\n",
              "      display: none;\n",
              "      fill: #1967D2;\n",
              "      height: 32px;\n",
              "      padding: 0 0 0 0;\n",
              "      width: 32px;\n",
              "    }\n",
              "\n",
              "    .colab-df-convert:hover {\n",
              "      background-color: #E2EBFA;\n",
              "      box-shadow: 0px 1px 2px rgba(60, 64, 67, 0.3), 0px 1px 3px 1px rgba(60, 64, 67, 0.15);\n",
              "      fill: #174EA6;\n",
              "    }\n",
              "\n",
              "    .colab-df-buttons div {\n",
              "      margin-bottom: 4px;\n",
              "    }\n",
              "\n",
              "    [theme=dark] .colab-df-convert {\n",
              "      background-color: #3B4455;\n",
              "      fill: #D2E3FC;\n",
              "    }\n",
              "\n",
              "    [theme=dark] .colab-df-convert:hover {\n",
              "      background-color: #434B5C;\n",
              "      box-shadow: 0px 1px 3px 1px rgba(0, 0, 0, 0.15);\n",
              "      filter: drop-shadow(0px 1px 2px rgba(0, 0, 0, 0.3));\n",
              "      fill: #FFFFFF;\n",
              "    }\n",
              "  </style>\n",
              "\n",
              "    <script>\n",
              "      const buttonEl =\n",
              "        document.querySelector('#df-cba2fb13-9145-464c-8d40-aa5db0bf3c5c button.colab-df-convert');\n",
              "      buttonEl.style.display =\n",
              "        google.colab.kernel.accessAllowed ? 'block' : 'none';\n",
              "\n",
              "      async function convertToInteractive(key) {\n",
              "        const element = document.querySelector('#df-cba2fb13-9145-464c-8d40-aa5db0bf3c5c');\n",
              "        const dataTable =\n",
              "          await google.colab.kernel.invokeFunction('convertToInteractive',\n",
              "                                                    [key], {});\n",
              "        if (!dataTable) return;\n",
              "\n",
              "        const docLinkHtml = 'Like what you see? Visit the ' +\n",
              "          '<a target=\"_blank\" href=https://colab.research.google.com/notebooks/data_table.ipynb>data table notebook</a>'\n",
              "          + ' to learn more about interactive tables.';\n",
              "        element.innerHTML = '';\n",
              "        dataTable['output_type'] = 'display_data';\n",
              "        await google.colab.output.renderOutput(dataTable, element);\n",
              "        const docLink = document.createElement('div');\n",
              "        docLink.innerHTML = docLinkHtml;\n",
              "        element.appendChild(docLink);\n",
              "      }\n",
              "    </script>\n",
              "  </div>\n",
              "\n",
              "\n",
              "<div id=\"df-f59b3cda-a36a-497e-b2b5-80c0dd98292e\">\n",
              "  <button class=\"colab-df-quickchart\" onclick=\"quickchart('df-f59b3cda-a36a-497e-b2b5-80c0dd98292e')\"\n",
              "            title=\"Suggest charts.\"\n",
              "            style=\"display:none;\">\n",
              "\n",
              "<svg xmlns=\"http://www.w3.org/2000/svg\" height=\"24px\"viewBox=\"0 0 24 24\"\n",
              "     width=\"24px\">\n",
              "    <g>\n",
              "        <path d=\"M19 3H5c-1.1 0-2 .9-2 2v14c0 1.1.9 2 2 2h14c1.1 0 2-.9 2-2V5c0-1.1-.9-2-2-2zM9 17H7v-7h2v7zm4 0h-2V7h2v10zm4 0h-2v-4h2v4z\"/>\n",
              "    </g>\n",
              "</svg>\n",
              "  </button>\n",
              "\n",
              "<style>\n",
              "  .colab-df-quickchart {\n",
              "      --bg-color: #E8F0FE;\n",
              "      --fill-color: #1967D2;\n",
              "      --hover-bg-color: #E2EBFA;\n",
              "      --hover-fill-color: #174EA6;\n",
              "      --disabled-fill-color: #AAA;\n",
              "      --disabled-bg-color: #DDD;\n",
              "  }\n",
              "\n",
              "  [theme=dark] .colab-df-quickchart {\n",
              "      --bg-color: #3B4455;\n",
              "      --fill-color: #D2E3FC;\n",
              "      --hover-bg-color: #434B5C;\n",
              "      --hover-fill-color: #FFFFFF;\n",
              "      --disabled-bg-color: #3B4455;\n",
              "      --disabled-fill-color: #666;\n",
              "  }\n",
              "\n",
              "  .colab-df-quickchart {\n",
              "    background-color: var(--bg-color);\n",
              "    border: none;\n",
              "    border-radius: 50%;\n",
              "    cursor: pointer;\n",
              "    display: none;\n",
              "    fill: var(--fill-color);\n",
              "    height: 32px;\n",
              "    padding: 0;\n",
              "    width: 32px;\n",
              "  }\n",
              "\n",
              "  .colab-df-quickchart:hover {\n",
              "    background-color: var(--hover-bg-color);\n",
              "    box-shadow: 0 1px 2px rgba(60, 64, 67, 0.3), 0 1px 3px 1px rgba(60, 64, 67, 0.15);\n",
              "    fill: var(--button-hover-fill-color);\n",
              "  }\n",
              "\n",
              "  .colab-df-quickchart-complete:disabled,\n",
              "  .colab-df-quickchart-complete:disabled:hover {\n",
              "    background-color: var(--disabled-bg-color);\n",
              "    fill: var(--disabled-fill-color);\n",
              "    box-shadow: none;\n",
              "  }\n",
              "\n",
              "  .colab-df-spinner {\n",
              "    border: 2px solid var(--fill-color);\n",
              "    border-color: transparent;\n",
              "    border-bottom-color: var(--fill-color);\n",
              "    animation:\n",
              "      spin 1s steps(1) infinite;\n",
              "  }\n",
              "\n",
              "  @keyframes spin {\n",
              "    0% {\n",
              "      border-color: transparent;\n",
              "      border-bottom-color: var(--fill-color);\n",
              "      border-left-color: var(--fill-color);\n",
              "    }\n",
              "    20% {\n",
              "      border-color: transparent;\n",
              "      border-left-color: var(--fill-color);\n",
              "      border-top-color: var(--fill-color);\n",
              "    }\n",
              "    30% {\n",
              "      border-color: transparent;\n",
              "      border-left-color: var(--fill-color);\n",
              "      border-top-color: var(--fill-color);\n",
              "      border-right-color: var(--fill-color);\n",
              "    }\n",
              "    40% {\n",
              "      border-color: transparent;\n",
              "      border-right-color: var(--fill-color);\n",
              "      border-top-color: var(--fill-color);\n",
              "    }\n",
              "    60% {\n",
              "      border-color: transparent;\n",
              "      border-right-color: var(--fill-color);\n",
              "    }\n",
              "    80% {\n",
              "      border-color: transparent;\n",
              "      border-right-color: var(--fill-color);\n",
              "      border-bottom-color: var(--fill-color);\n",
              "    }\n",
              "    90% {\n",
              "      border-color: transparent;\n",
              "      border-bottom-color: var(--fill-color);\n",
              "    }\n",
              "  }\n",
              "</style>\n",
              "\n",
              "  <script>\n",
              "    async function quickchart(key) {\n",
              "      const quickchartButtonEl =\n",
              "        document.querySelector('#' + key + ' button');\n",
              "      quickchartButtonEl.disabled = true;  // To prevent multiple clicks.\n",
              "      quickchartButtonEl.classList.add('colab-df-spinner');\n",
              "      try {\n",
              "        const charts = await google.colab.kernel.invokeFunction(\n",
              "            'suggestCharts', [key], {});\n",
              "      } catch (error) {\n",
              "        console.error('Error during call to suggestCharts:', error);\n",
              "      }\n",
              "      quickchartButtonEl.classList.remove('colab-df-spinner');\n",
              "      quickchartButtonEl.classList.add('colab-df-quickchart-complete');\n",
              "    }\n",
              "    (() => {\n",
              "      let quickchartButtonEl =\n",
              "        document.querySelector('#df-f59b3cda-a36a-497e-b2b5-80c0dd98292e button');\n",
              "      quickchartButtonEl.style.display =\n",
              "        google.colab.kernel.accessAllowed ? 'block' : 'none';\n",
              "    })();\n",
              "  </script>\n",
              "</div>\n",
              "    </div>\n",
              "  </div>\n"
            ]
          },
          "metadata": {},
          "execution_count": 32
        }
      ]
    },
    {
      "cell_type": "code",
      "source": [
        "# Зависимая переменная (цена квартиры)\n",
        "y = data['y']\n",
        "\n",
        "# Независимые переменные (факторы)\n",
        "X = data[['x1', 'x2', 'x3', 'x5', 'x6', 'x7', 'x8']]"
      ],
      "metadata": {
        "id": "P5E2QKTY4RDu"
      },
      "execution_count": 33,
      "outputs": []
    },
    {
      "cell_type": "code",
      "source": [
        "model = sm.OLS(y, X).fit()"
      ],
      "metadata": {
        "id": "MzfVT26K4c6E"
      },
      "execution_count": 34,
      "outputs": []
    },
    {
      "cell_type": "markdown",
      "source": [
        "# **3 задание**"
      ],
      "metadata": {
        "id": "kUAuEpZbO1aT"
      }
    },
    {
      "cell_type": "code",
      "source": [
        "print(model.summary())"
      ],
      "metadata": {
        "id": "z6oBR78x4uYH",
        "outputId": "36049d99-b56c-4f4e-a077-cfdb6cc43e30",
        "colab": {
          "base_uri": "https://localhost:8080/"
        }
      },
      "execution_count": 35,
      "outputs": [
        {
          "output_type": "stream",
          "name": "stdout",
          "text": [
            "                                 OLS Regression Results                                \n",
            "=======================================================================================\n",
            "Dep. Variable:                      y   R-squared (uncentered):                   0.993\n",
            "Model:                            OLS   Adj. R-squared (uncentered):              0.992\n",
            "Method:                 Least Squares   F-statistic:                              559.1\n",
            "Date:                Tue, 07 Nov 2023   Prob (F-statistic):                    1.11e-26\n",
            "Time:                        08:25:27   Log-Likelihood:                         -82.217\n",
            "No. Observations:                  33   AIC:                                      178.4\n",
            "Df Residuals:                      26   BIC:                                      188.9\n",
            "Df Model:                           7                                                  \n",
            "Covariance Type:            nonrobust                                                  \n",
            "==============================================================================\n",
            "                 coef    std err          t      P>|t|      [0.025      0.975]\n",
            "------------------------------------------------------------------------------\n",
            "x1            -2.9039      1.892     -1.534      0.137      -6.794       0.986\n",
            "x2             0.5746      0.961      0.598      0.555      -1.401       2.551\n",
            "x3             0.6572      0.087      7.574      0.000       0.479       0.836\n",
            "x5            -0.5436      0.212     -2.560      0.017      -0.980      -0.107\n",
            "x6             3.5265      1.423      2.478      0.020       0.602       6.451\n",
            "x7             0.4642      1.485      0.313      0.757      -2.587       3.516\n",
            "x8            -0.0969      0.143     -0.676      0.505      -0.392       0.198\n",
            "==============================================================================\n",
            "Omnibus:                        0.334   Durbin-Watson:                   0.689\n",
            "Prob(Omnibus):                  0.846   Jarque-Bera (JB):                0.432\n",
            "Skew:                          -0.211   Prob(JB):                        0.806\n",
            "Kurtosis:                       2.630   Cond. No.                         245.\n",
            "==============================================================================\n",
            "\n",
            "Notes:\n",
            "[1] R² is computed without centering (uncentered) since the model does not contain a constant.\n",
            "[2] Standard Errors assume that the covariance matrix of the errors is correctly specified.\n"
          ]
        }
      ]
    },
    {
      "cell_type": "markdown",
      "source": [
        "y = −2.9039x1 + 0.5746x2 + 0.6572x3 − 0.5436x5 + 3.5265x6 + 0.4642x7 − 0.0969x8 - уравнение множественной регрессии в линейной форме"
      ],
      "metadata": {
        "id": "9YEXb5I749cd"
      }
    },
    {
      "cell_type": "code",
      "source": [
        "# Зависимая переменная (цена квартиры)\n",
        "y = data['y']\n",
        "\n",
        "# Независимые переменные (факторы)\n",
        "X = data[['x1', 'x2', 'x3', 'x5', 'x6', 'x7', 'x8']]"
      ],
      "metadata": {
        "id": "1XAYy5Tm5O3i"
      },
      "execution_count": 37,
      "outputs": []
    },
    {
      "cell_type": "code",
      "source": [
        "import statsmodels.api as sm\n",
        "from sklearn.preprocessing import StandardScaler\n",
        "\n",
        "scaler = StandardScaler()\n",
        "X_standardized = scaler.fit_transform(X)"
      ],
      "metadata": {
        "id": "pxe1X3CU57R-"
      },
      "execution_count": 39,
      "outputs": []
    },
    {
      "cell_type": "code",
      "source": [
        "X_standardized = sm.add_constant(X_standardized)  # Добавьте константу\n",
        "\n",
        "model = sm.OLS(y, X_standardized).fit()"
      ],
      "metadata": {
        "id": "NtzKh19R6BJk"
      },
      "execution_count": 40,
      "outputs": []
    },
    {
      "cell_type": "markdown",
      "source": [
        "# **5 задание**"
      ],
      "metadata": {
        "id": "H3OyF4YUO6-w"
      }
    },
    {
      "cell_type": "code",
      "source": [
        "print(model.summary())"
      ],
      "metadata": {
        "id": "XpGzTK226D4K",
        "outputId": "dbe577ad-b4cf-49fe-d07e-590316d16e7d",
        "colab": {
          "base_uri": "https://localhost:8080/"
        }
      },
      "execution_count": 41,
      "outputs": [
        {
          "output_type": "stream",
          "name": "stdout",
          "text": [
            "                            OLS Regression Results                            \n",
            "==============================================================================\n",
            "Dep. Variable:                      y   R-squared:                       0.948\n",
            "Model:                            OLS   Adj. R-squared:                  0.934\n",
            "Method:                 Least Squares   F-statistic:                     65.28\n",
            "Date:                Tue, 07 Nov 2023   Prob (F-statistic):           1.76e-14\n",
            "Time:                        08:31:16   Log-Likelihood:                -81.899\n",
            "No. Observations:                  33   AIC:                             179.8\n",
            "Df Residuals:                      25   BIC:                             191.8\n",
            "Df Model:                           7                                         \n",
            "Covariance Type:            nonrobust                                         \n",
            "==============================================================================\n",
            "                 coef    std err          t      P>|t|      [0.025      0.975]\n",
            "------------------------------------------------------------------------------\n",
            "const         33.6576      0.579     58.139      0.000      32.465      34.850\n",
            "x1            -2.3423      1.801     -1.301      0.205      -6.051       1.366\n",
            "x2             0.6018      0.774      0.778      0.444      -0.992       2.195\n",
            "x3            14.7707      2.077      7.113      0.000      10.494      19.047\n",
            "x4            -1.3992      0.858     -1.631      0.116      -3.167       0.368\n",
            "x5             1.8888      0.764      2.472      0.021       0.315       3.463\n",
            "x6             0.4003      0.634      0.632      0.533      -0.905       1.705\n",
            "x7            -0.5212      0.762     -0.684      0.500      -2.090       1.047\n",
            "==============================================================================\n",
            "Omnibus:                        0.365   Durbin-Watson:                   0.744\n",
            "Prob(Omnibus):                  0.833   Jarque-Bera (JB):                0.405\n",
            "Skew:                          -0.224   Prob(JB):                        0.817\n",
            "Kurtosis:                       2.693   Cond. No.                         7.51\n",
            "==============================================================================\n",
            "\n",
            "Notes:\n",
            "[1] Standard Errors assume that the covariance matrix of the errors is correctly specified.\n"
          ]
        }
      ]
    },
    {
      "cell_type": "markdown",
      "source": [
        "y = 33.6576 − 2.3423x1 + 0.6018x2 + 14.7707x3 − 1.3992x5 + 1.8888x6 + 0.4003x7 − 0.5212x8 - Уравнение множественной регрессии в стандартизованной форме"
      ],
      "metadata": {
        "id": "0AOV6HqP63Uh"
      }
    },
    {
      "cell_type": "markdown",
      "source": [
        "# **6 задание**"
      ],
      "metadata": {
        "id": "8DBXTrzUO9_r"
      }
    },
    {
      "cell_type": "code",
      "source": [
        "# Импортируйте библиотеки\n",
        "import pandas as pd\n",
        "import statsmodels.api as sm\n",
        "\n",
        "# Загрузите данные из вашего датасета в DataFrame\n",
        "data = pd.read_excel('/content/book2.xlsx')\n",
        "\n",
        "# Определите зависимую переменную (цену квартиры) и независимые переменные (факторы)\n",
        "y = data['y']\n",
        "X = data[['x1', 'x2', 'x3', 'x4', 'x5', 'x6', 'x7', 'x8']]\n",
        "\n",
        "# Добавьте константу (intercept)\n",
        "X = sm.add_constant(X)\n",
        "\n",
        "# Постройте модель множественной регрессии\n",
        "model = sm.OLS(y, X).fit()\n",
        "\n",
        "# Получите коэффициенты регрессии\n",
        "coefficients = model.params\n",
        "\n",
        "# Выведите частные уравнения регрессии\n",
        "for i, col in enumerate(X.columns):\n",
        "    if col != 'const':\n",
        "        partial_regression_equation = f'{y.name} = {coefficients[0]:.4f}'\n",
        "        for j, coef in enumerate(coefficients[1:]):\n",
        "            partial_regression_equation += f' + {coef:.4f} * {X.columns[j+1]}'\n",
        "        print(f'Partial Regression Equation for {col}:')\n",
        "        print(partial_regression_equation)\n"
      ],
      "metadata": {
        "id": "iInzQJy67TCn",
        "outputId": "9c60b321-5834-4682-bb96-8aaf7c5a4ca5",
        "colab": {
          "base_uri": "https://localhost:8080/"
        }
      },
      "execution_count": 44,
      "outputs": [
        {
          "output_type": "stream",
          "name": "stdout",
          "text": [
            "Partial Regression Equation for x1:\n",
            "y = -2.7448 + -3.3912 * x1 + 0.6313 * x2 + 0.3030 * x3 + 0.5130 * x4 + 0.0751 * x5 + 3.6419 * x6 + 2.1767 * x7 + -0.1042 * x8\n",
            "Partial Regression Equation for x2:\n",
            "y = -2.7448 + -3.3912 * x1 + 0.6313 * x2 + 0.3030 * x3 + 0.5130 * x4 + 0.0751 * x5 + 3.6419 * x6 + 2.1767 * x7 + -0.1042 * x8\n",
            "Partial Regression Equation for x3:\n",
            "y = -2.7448 + -3.3912 * x1 + 0.6313 * x2 + 0.3030 * x3 + 0.5130 * x4 + 0.0751 * x5 + 3.6419 * x6 + 2.1767 * x7 + -0.1042 * x8\n",
            "Partial Regression Equation for x4:\n",
            "y = -2.7448 + -3.3912 * x1 + 0.6313 * x2 + 0.3030 * x3 + 0.5130 * x4 + 0.0751 * x5 + 3.6419 * x6 + 2.1767 * x7 + -0.1042 * x8\n",
            "Partial Regression Equation for x5:\n",
            "y = -2.7448 + -3.3912 * x1 + 0.6313 * x2 + 0.3030 * x3 + 0.5130 * x4 + 0.0751 * x5 + 3.6419 * x6 + 2.1767 * x7 + -0.1042 * x8\n",
            "Partial Regression Equation for x6:\n",
            "y = -2.7448 + -3.3912 * x1 + 0.6313 * x2 + 0.3030 * x3 + 0.5130 * x4 + 0.0751 * x5 + 3.6419 * x6 + 2.1767 * x7 + -0.1042 * x8\n",
            "Partial Regression Equation for x7:\n",
            "y = -2.7448 + -3.3912 * x1 + 0.6313 * x2 + 0.3030 * x3 + 0.5130 * x4 + 0.0751 * x5 + 3.6419 * x6 + 2.1767 * x7 + -0.1042 * x8\n",
            "Partial Regression Equation for x8:\n",
            "y = -2.7448 + -3.3912 * x1 + 0.6313 * x2 + 0.3030 * x3 + 0.5130 * x4 + 0.0751 * x5 + 3.6419 * x6 + 2.1767 * x7 + -0.1042 * x8\n"
          ]
        }
      ]
    },
    {
      "cell_type": "markdown",
      "source": [
        "частные уравнения регрессии\n"
      ],
      "metadata": {
        "id": "MHgUVGMr7bNG"
      }
    },
    {
      "cell_type": "markdown",
      "source": [
        "# **4 задание**"
      ],
      "metadata": {
        "id": "NSrMb7A8PDtt"
      }
    },
    {
      "cell_type": "code",
      "source": [
        "# Импортируйте библиотеки\n",
        "import pandas as pd\n",
        "import statsmodels.api as sm\n",
        "\n",
        "# Загрузите данные из вашего датасета в DataFrame\n",
        "data = pd.read_excel('/content/book2.xlsx')\n",
        "\n",
        "# Определите зависимую переменную (цену квартиры) и независимые переменные (факторы)\n",
        "y = data['y']\n",
        "X = data[['x1', 'x2', 'x3', 'x4', 'x5', 'x6', 'x7', 'x8']]\n",
        "\n",
        "# Добавьте константу (intercept)\n",
        "X = sm.add_constant(X)\n",
        "\n",
        "# Постройте модель множественной регрессии\n",
        "model = sm.OLS(y, X).fit()\n",
        "\n",
        "# Получите коэффициенты регрессии и P-value для каждой переменной\n",
        "coefficients = model.params\n",
        "p_values = model.pvalues\n",
        "\n",
        "# Исключите статистически незначимые факторы\n",
        "significant_variables = [var for var, p_value in zip(X.columns, p_values) if p_value < 0.05]\n",
        "\n",
        "# Постройте уравнение множественной регрессии только с значимыми факторами\n",
        "X_significant = X[significant_variables]\n",
        "model_significant = sm.OLS(y, X_significant).fit()\n",
        "\n",
        "# Выведите уравнение множественной регрессии и статистическую информацию\n",
        "print(\"Уравнение множественной регрессии с значимыми факторами:\")\n",
        "print(model_significant.summary())"
      ],
      "metadata": {
        "id": "wQqmWyR97drq",
        "outputId": "442852ee-7383-4b2d-a46f-cf7c483e1fce",
        "colab": {
          "base_uri": "https://localhost:8080/"
        }
      },
      "execution_count": 48,
      "outputs": [
        {
          "output_type": "stream",
          "name": "stdout",
          "text": [
            "Уравнение множественной регрессии с значимыми факторами:\n",
            "                                 OLS Regression Results                                \n",
            "=======================================================================================\n",
            "Dep. Variable:                      y   R-squared (uncentered):                   0.990\n",
            "Model:                            OLS   Adj. R-squared (uncentered):              0.989\n",
            "Method:                 Least Squares   F-statistic:                              1520.\n",
            "Date:                Tue, 07 Nov 2023   Prob (F-statistic):                    1.16e-31\n",
            "Time:                        08:43:18   Log-Likelihood:                         -89.234\n",
            "No. Observations:                  33   AIC:                                      182.5\n",
            "Df Residuals:                      31   BIC:                                      185.5\n",
            "Df Model:                           2                                                  \n",
            "Covariance Type:            nonrobust                                                  \n",
            "==============================================================================\n",
            "                 coef    std err          t      P>|t|      [0.025      0.975]\n",
            "------------------------------------------------------------------------------\n",
            "x4             0.8239      0.027     30.056      0.000       0.768       0.880\n",
            "x6             4.2342      1.311      3.231      0.003       1.561       6.907\n",
            "==============================================================================\n",
            "Omnibus:                        0.060   Durbin-Watson:                   1.241\n",
            "Prob(Omnibus):                  0.971   Jarque-Bera (JB):                0.216\n",
            "Skew:                           0.085   Prob(JB):                        0.897\n",
            "Kurtosis:                       2.642   Cond. No.                         80.6\n",
            "==============================================================================\n",
            "\n",
            "Notes:\n",
            "[1] R² is computed without centering (uncentered) since the model does not contain a constant.\n",
            "[2] Standard Errors assume that the covariance matrix of the errors is correctly specified.\n"
          ]
        }
      ]
    },
    {
      "cell_type": "markdown",
      "source": [
        "y = 0.8239x4 + 4.2342x6 - уравнение множественной регрессии со статистически значимыми факторами."
      ],
      "metadata": {
        "id": "oIWLFRqsI3ak"
      }
    },
    {
      "cell_type": "markdown",
      "source": [
        "R-squared (R²) равен 0.990, что означает, что 99% изменчивости зависимой переменной (цены квартиры) объясняется моделью с учетом статистически значимых факторов. Это говорит о том, что модель хорошо объясняет зависимость.\n",
        "\n",
        "F-статистика равна 1520, а соответствующее p-значение составляет 1.16e-31, что гораздо меньше стандартного уровня значимости (обычно 0.05). Это указывает на общую значимость уравнения множественной регрессии.\n",
        "\n",
        "Для параметров x4 и x6:\n",
        "\n",
        "Коэффициент x4 равен 0.8239, а соответствующее p-значение равно 0.000. Это говорит о статистической значимости параметра x4 и о том, что он положительно влияет на цену квартиры.\n",
        "\n",
        "Коэффициент x6 равен 4.2342, а соответствующее p-значение равно 0.003. Это также указывает на статистическую значимость параметра x6 и его положительное влияние на цену квартиры."
      ],
      "metadata": {
        "id": "bximlzJVKelI"
      }
    },
    {
      "cell_type": "markdown",
      "source": [
        "Исходя из этих результатов, можно сделать вывод, что уравнение множественной регрессии и его параметры статистически значимы. Они объясняют зависимость между статистически значимыми факторами (x4 и x6) и ценой квартиры в значительной степени."
      ],
      "metadata": {
        "id": "V32Gk5LRKlEd"
      }
    },
    {
      "cell_type": "markdown",
      "source": [
        "# **7 задание**"
      ],
      "metadata": {
        "id": "4UdEd7ocPGRx"
      }
    },
    {
      "cell_type": "code",
      "source": [
        "import pandas as pd\n",
        "import numpy as np\n",
        "import matplotlib.pyplot as plt\n",
        "\n",
        "# Загрузите данные из вашего датасета в DataFrame\n",
        "data = pd.read_excel('/content/book2.xlsx')"
      ],
      "metadata": {
        "id": "4zK2yNv2Lidq"
      },
      "execution_count": 1,
      "outputs": []
    },
    {
      "cell_type": "code",
      "source": [
        "# Определите независимые переменные для кластеризации\n",
        "X = data[['x4', 'x6']]\n",
        "y = data['y']\n",
        "\n",
        "# Ваша модель множественной регрессии\n",
        "y_pred = 0.8239 * X['x4'] + 4.2342 * X['x6']\n",
        "residuals = y - y_pred"
      ],
      "metadata": {
        "id": "jGejh12sLoKS"
      },
      "execution_count": 2,
      "outputs": []
    },
    {
      "cell_type": "code",
      "source": [
        "plt.figure(figsize=(8, 6))\n",
        "plt.scatter(X['x4'], residuals, label='x4 Residuals', alpha=0.6)\n",
        "plt.scatter(X['x6'], residuals, label='x6 Residuals', alpha=0.6)\n",
        "plt.xlabel('x4 and x6')\n",
        "plt.ylabel('Residuals')\n",
        "plt.legend()\n",
        "plt.title('Scatter Plot of Residuals vs. x4 and x6')\n",
        "plt.show()"
      ],
      "metadata": {
        "id": "lFVzStIcLoG3",
        "outputId": "7292c941-8c71-4bc7-bb9c-2a10f55185a7",
        "colab": {
          "base_uri": "https://localhost:8080/",
          "height": 564
        }
      },
      "execution_count": 3,
      "outputs": [
        {
          "output_type": "display_data",
          "data": {
            "text/plain": [
              "<Figure size 800x600 with 1 Axes>"
            ],
            "image/png": "[encoded data removed]"
          },
          "metadata": {}
        }
      ]
    },
    {
      "cell_type": "code",
      "source": [
        "# Определите независимые переменные для кластеризации\n",
        "X = data[['x4', 'x6']]\n",
        "y = data['y']\n",
        "\n",
        "# Ваша модель множественной регрессии\n",
        "y_pred = 0.8239 * X['x4'] + 4.2342 * X['x6']\n",
        "residuals = y - y_pred\n"
      ],
      "metadata": {
        "id": "QgU-RNJmLtKR"
      },
      "execution_count": 4,
      "outputs": []
    },
    {
      "cell_type": "code",
      "source": [
        "from scipy import stats\n",
        "plt.figure(figsize=(8, 6))\n",
        "stats.probplot(residuals, dist=\"norm\", plot=plt)\n",
        "plt.title(\"Q-Q Plot of Residuals\")\n",
        "plt.show()"
      ],
      "metadata": {
        "id": "w_ShOqIML5Xu",
        "outputId": "6fd3fd0f-7f05-4e01-9910-9eddc2103001",
        "colab": {
          "base_uri": "https://localhost:8080/",
          "height": 564
        }
      },
      "execution_count": 13,
      "outputs": [
        {
          "output_type": "display_data",
          "data": {
            "text/plain": [
              "<Figure size 800x600 with 1 Axes>"
            ],
            "image/png": "[encoded data removed]"
          },
          "metadata": {}
        }
      ]
    },
    {
      "cell_type": "code",
      "source": [
        "from scipy.stats import shapiro\n",
        "\n",
        "stat, p = shapiro(residuals)\n",
        "print(\"Shapiro-Wilk test statistic:\", stat)\n",
        "print(\"p-value:\", p)\n",
        "\n",
        "if p > 0.05:\n",
        "    print(\"Остатки распределены нормально (не отклоняются от нормального распределения)\")\n",
        "else:\n",
        "    print(\"Остатки не распределены нормально (отклоняются от нормального распределения)\")\n"
      ],
      "metadata": {
        "id": "jSKHWd1uMT4B",
        "outputId": "1031c0a8-e946-4934-9292-e88b8a93d3b3",
        "colab": {
          "base_uri": "https://localhost:8080/"
        }
      },
      "execution_count": 15,
      "outputs": [
        {
          "output_type": "stream",
          "name": "stdout",
          "text": [
            "Shapiro-Wilk test statistic: 0.9899400472640991\n",
            "p-value: 0.9868894815444946\n",
            "Остатки распределены нормально (не отклоняются от нормального распределения)\n"
          ]
        }
      ]
    },
    {
      "cell_type": "markdown",
      "source": [
        "Q-Q plot сравнивает распределение остатков с нормальным распределением. Если точки на графике следуют близко к диагональной линии, это указывает на нормальное распределение остатков."
      ],
      "metadata": {
        "id": "rWRsBWFQNQ4R"
      }
    },
    {
      "cell_type": "code",
      "source": [
        "import statsmodels.api as sm\n",
        "\n",
        "# Определите независимые переменные для кластеризации\n",
        "X = data[['x4', 'x6']]\n",
        "y = data['y']\n",
        "\n",
        "# Ваша модель множественной регрессии\n",
        "X = sm.add_constant(X)  # Добавьте константу (intercept) к независимым переменным\n",
        "model = sm.OLS(y, X).fit()\n",
        "y_pred = model.predict(X)\n",
        "residuals = y - y_pred\n"
      ],
      "metadata": {
        "id": "3IU_0uAbNSoh"
      },
      "execution_count": 17,
      "outputs": []
    },
    {
      "cell_type": "code",
      "source": [
        "plt.figure(figsize=(8, 6))\n",
        "plt.scatter(y_pred, residuals, alpha=0.6)\n",
        "plt.xlabel('Predicted Values')\n",
        "plt.ylabel('Residuals')\n",
        "plt.axhline(y=0, color='r', linestyle='--')\n",
        "plt.title('Residuals vs. Predicted Values')\n",
        "plt.show()"
      ],
      "metadata": {
        "id": "o9Xiy3V-Nkmv",
        "outputId": "6e4dfa9e-98f9-49f3-8e35-c8fd147dcfc0",
        "colab": {
          "base_uri": "https://localhost:8080/",
          "height": 564
        }
      },
      "execution_count": 18,
      "outputs": [
        {
          "output_type": "display_data",
          "data": {
            "text/plain": [
              "<Figure size 800x600 with 1 Axes>"
            ],
            "image/png": "[encoded data removed]"
          },
          "metadata": {}
        }
      ]
    },
    {
      "cell_type": "markdown",
      "source": [
        "Если остатки равномерно распределены вдоль горизонтальной линии (горизонтальная линия вдоль нуля), это указывает на гомоскедастичность (равномерную изменчивость остатков). Если есть видимая зависимость между остатками и предсказанными значениями, это может указывать на нарушение предпосылки о гомоскедастичности."
      ],
      "metadata": {
        "id": "MoMsi0v2Ns60"
      }
    },
    {
      "cell_type": "code",
      "source": [
        "# Определите независимые переменные для кластеризации\n",
        "X = data[['x4', 'x6']]\n",
        "y = data['y']\n",
        "\n",
        "# Ваша модель множественной регрессии\n",
        "X = sm.add_constant(X)  # Добавьте константу (intercept) к независимым переменным\n",
        "model = sm.OLS(y, X).fit()\n",
        "y_pred = model.predict(X)\n",
        "residuals = y - y_pred\n"
      ],
      "metadata": {
        "id": "X6gySkVINtxT"
      },
      "execution_count": 19,
      "outputs": []
    },
    {
      "cell_type": "code",
      "source": [
        "plt.figure(figsize=(8, 6))\n",
        "plt.plot(data.index, residuals, marker='o', linestyle='-', color='b')\n",
        "plt.axhline(y=0, color='r', linestyle='--')\n",
        "plt.xlabel('Номер наблюдения')\n",
        "plt.ylabel('Остатки')\n",
        "plt.title('График остатков')\n",
        "plt.show()\n"
      ],
      "metadata": {
        "id": "rdQs0jHrN3BF",
        "outputId": "65a726b2-2c1c-4532-bb3e-0f33d06b9b24",
        "colab": {
          "base_uri": "https://localhost:8080/",
          "height": 564
        }
      },
      "execution_count": 20,
      "outputs": [
        {
          "output_type": "display_data",
          "data": {
            "text/plain": [
              "<Figure size 800x600 with 1 Axes>"
            ],
            "image/png": "[encoded data removed]"
          },
          "metadata": {}
        }
      ]
    },
    {
      "cell_type": "markdown",
      "source": [
        "график остатков во временном порядке или по номерам наблюдений. Если остатки не показывают системных закономерностей, таких как тренды или циклы, это может указывать на независимость остатков."
      ],
      "metadata": {
        "id": "J8LLbPAFN-KD"
      }
    }
  ],
  "metadata": {
    "colab": {
      "name": "Добро пожаловать в Colaboratory!",
      "provenance": [],
      "include_colab_link": true
    },
    "kernelspec": {
      "display_name": "Python 3",
      "name": "python3"
    }
  },
  "nbformat": 4,
  "nbformat_minor": 0
}